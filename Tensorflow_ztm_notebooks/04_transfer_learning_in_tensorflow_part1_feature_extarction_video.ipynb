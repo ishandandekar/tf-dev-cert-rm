{
  "nbformat": 4,
  "nbformat_minor": 0,
  "metadata": {
    "colab": {
      "provenance": [],
      "collapsed_sections": []
    },
    "kernelspec": {
      "name": "python3",
      "display_name": "Python 3"
    },
    "language_info": {
      "name": "python"
    },
    "gpuClass": "standard",
    "accelerator": "GPU"
  },
  "cells": [
    {
      "cell_type": "markdown",
      "source": [
        "# Transfer Learning with Tensorflow Part 1: Feature extraction\n",
        "\n",
        "Transfer learning is leveraging a working model's existing architecture and learned patterns for our own problems.  \n",
        "There are two main benefits:\n",
        "1. Can leverage an existing neural network architecture proven to work on problems similar to our own.\n",
        "1. Can leverage a working neural architecture which has already learned patterns on similar data to our own, then can adapt those patterns to our own data."
      ],
      "metadata": {
        "id": "tCExnhw1YOnS"
      }
    },
    {
      "cell_type": "code",
      "execution_count": null,
      "metadata": {
        "colab": {
          "base_uri": "https://localhost:8080/"
        },
        "id": "r4z-CXD8XH-t",
        "outputId": "4e692c77-a30c-4ece-9c96-b9a710dd5450"
      },
      "outputs": [
        {
          "output_type": "stream",
          "name": "stdout",
          "text": [
            "Fri Jun 24 17:12:34 2022       \n",
            "+-----------------------------------------------------------------------------+\n",
            "| NVIDIA-SMI 460.32.03    Driver Version: 460.32.03    CUDA Version: 11.2     |\n",
            "|-------------------------------+----------------------+----------------------+\n",
            "| GPU  Name        Persistence-M| Bus-Id        Disp.A | Volatile Uncorr. ECC |\n",
            "| Fan  Temp  Perf  Pwr:Usage/Cap|         Memory-Usage | GPU-Util  Compute M. |\n",
            "|                               |                      |               MIG M. |\n",
            "|===============================+======================+======================|\n",
            "|   0  Tesla T4            Off  | 00000000:00:04.0 Off |                    0 |\n",
            "| N/A   69C    P8    11W /  70W |      0MiB / 15109MiB |      0%      Default |\n",
            "|                               |                      |                  N/A |\n",
            "+-------------------------------+----------------------+----------------------+\n",
            "                                                                               \n",
            "+-----------------------------------------------------------------------------+\n",
            "| Processes:                                                                  |\n",
            "|  GPU   GI   CI        PID   Type   Process name                  GPU Memory |\n",
            "|        ID   ID                                                   Usage      |\n",
            "|=============================================================================|\n",
            "|  No running processes found                                                 |\n",
            "+-----------------------------------------------------------------------------+\n"
          ]
        }
      ],
      "source": [
        "# Are we using a GPU\n",
        "!nvidia-smi"
      ]
    },
    {
      "cell_type": "markdown",
      "source": [
        "## Download and becoming one with data"
      ],
      "metadata": {
        "id": "Gzysynm9bLaB"
      }
    },
    {
      "cell_type": "code",
      "source": [
        "# Get data (10% of 10 food classes from Food101)\n",
        "import zipfile\n",
        "\n",
        "# Download the data\n",
        "!wget https://storage.googleapis.com/ztm_tf_course/food_vision/10_food_classes_10_percent.zip\n",
        "\n",
        "# Unzip the downloaded file\n",
        "zip_ref=zipfile.ZipFile(\"10_food_classes_10_percent.zip\")\n",
        "zip_ref.extractall()\n",
        "zip_ref.close()"
      ],
      "metadata": {
        "colab": {
          "base_uri": "https://localhost:8080/"
        },
        "id": "jec1fSGNbKfv",
        "outputId": "f3be3387-fcc8-40d3-b9ca-7da0af57e9a3"
      },
      "execution_count": null,
      "outputs": [
        {
          "output_type": "stream",
          "name": "stdout",
          "text": [
            "--2022-06-24 17:12:34--  https://storage.googleapis.com/ztm_tf_course/food_vision/10_food_classes_10_percent.zip\n",
            "Resolving storage.googleapis.com (storage.googleapis.com)... 74.125.197.128, 74.125.142.128, 74.125.195.128, ...\n",
            "Connecting to storage.googleapis.com (storage.googleapis.com)|74.125.197.128|:443... connected.\n",
            "HTTP request sent, awaiting response... 200 OK\n",
            "Length: 168546183 (161M) [application/zip]\n",
            "Saving to: ‘10_food_classes_10_percent.zip’\n",
            "\n",
            "10_food_classes_10_ 100%[===================>] 160.74M   309MB/s    in 0.5s    \n",
            "\n",
            "2022-06-24 17:12:35 (309 MB/s) - ‘10_food_classes_10_percent.zip’ saved [168546183/168546183]\n",
            "\n"
          ]
        }
      ]
    },
    {
      "cell_type": "code",
      "source": [
        "# How many images in each folder?\n",
        "import os\n",
        "\n",
        "# Walk through 10 percent data directory and list number of files\n",
        "for dirpath, dirnames, filenames in os.walk(\"10_food_classes_10_percent\"):\n",
        "  print(f\"There are {len(dirnames)} directories and {len(filenames)} images in '{dirpath}'.\")"
      ],
      "metadata": {
        "colab": {
          "base_uri": "https://localhost:8080/"
        },
        "id": "3MZdSQPicZZF",
        "outputId": "1341ca6b-72d8-40a4-dd89-a8e60fb3c252"
      },
      "execution_count": null,
      "outputs": [
        {
          "output_type": "stream",
          "name": "stdout",
          "text": [
            "There are 2 directories and 0 images in '10_food_classes_10_percent'.\n",
            "There are 10 directories and 0 images in '10_food_classes_10_percent/test'.\n",
            "There are 0 directories and 250 images in '10_food_classes_10_percent/test/steak'.\n",
            "There are 0 directories and 250 images in '10_food_classes_10_percent/test/ice_cream'.\n",
            "There are 0 directories and 250 images in '10_food_classes_10_percent/test/pizza'.\n",
            "There are 0 directories and 250 images in '10_food_classes_10_percent/test/chicken_wings'.\n",
            "There are 0 directories and 250 images in '10_food_classes_10_percent/test/grilled_salmon'.\n",
            "There are 0 directories and 250 images in '10_food_classes_10_percent/test/fried_rice'.\n",
            "There are 0 directories and 250 images in '10_food_classes_10_percent/test/sushi'.\n",
            "There are 0 directories and 250 images in '10_food_classes_10_percent/test/chicken_curry'.\n",
            "There are 0 directories and 250 images in '10_food_classes_10_percent/test/ramen'.\n",
            "There are 0 directories and 250 images in '10_food_classes_10_percent/test/hamburger'.\n",
            "There are 10 directories and 0 images in '10_food_classes_10_percent/train'.\n",
            "There are 0 directories and 75 images in '10_food_classes_10_percent/train/steak'.\n",
            "There are 0 directories and 75 images in '10_food_classes_10_percent/train/ice_cream'.\n",
            "There are 0 directories and 75 images in '10_food_classes_10_percent/train/pizza'.\n",
            "There are 0 directories and 75 images in '10_food_classes_10_percent/train/chicken_wings'.\n",
            "There are 0 directories and 75 images in '10_food_classes_10_percent/train/grilled_salmon'.\n",
            "There are 0 directories and 75 images in '10_food_classes_10_percent/train/fried_rice'.\n",
            "There are 0 directories and 75 images in '10_food_classes_10_percent/train/sushi'.\n",
            "There are 0 directories and 75 images in '10_food_classes_10_percent/train/chicken_curry'.\n",
            "There are 0 directories and 75 images in '10_food_classes_10_percent/train/ramen'.\n",
            "There are 0 directories and 75 images in '10_food_classes_10_percent/train/hamburger'.\n"
          ]
        }
      ]
    },
    {
      "cell_type": "markdown",
      "source": [
        "## Creating data loaders (preparing the data)\n",
        "\n",
        "We'll use the `ImageDataGenerator` class to load in our images in batches."
      ],
      "metadata": {
        "id": "OtfmneY2c_CW"
      }
    },
    {
      "cell_type": "code",
      "source": [
        "# Setup data inputs\n",
        "from tensorflow.keras.preprocessing.image import ImageDataGenerator\n",
        "\n",
        "IMAGE_SHAPE=(224,224)\n",
        "BATCH_SIZE=32\n",
        "\n",
        "train_dir = \"10_food_classes_10_percent/train/\"\n",
        "test_dir = \"10_food_classes_10_percent/test/\"\n",
        "\n",
        "train_datagen = ImageDataGenerator(rescale=1/255.0)\n",
        "test_datagen = ImageDataGenerator(rescale=1/255.0)\n",
        "\n",
        "print(\"Training images:\")\n",
        "train_data_10_percent = train_datagen.flow_from_directory(train_dir,\n",
        "                                                          target_size=IMAGE_SHAPE,\n",
        "                                                          batch_size=BATCH_SIZE,\n",
        "                                                          class_mode=\"categorical\")\n",
        "\n",
        "print(\"Testing images:\")\n",
        "test_data_10_percent = test_datagen.flow_from_directory(test_dir,\n",
        "                                                        target_size=IMAGE_SHAPE,\n",
        "                                                        batch_size=BATCH_SIZE,\n",
        "                                                        class_mode=\"categorical\")\n"
      ],
      "metadata": {
        "colab": {
          "base_uri": "https://localhost:8080/"
        },
        "id": "Ih2BGDuvdIxn",
        "outputId": "7acecd1e-4af7-4fc2-d698-f4b41f67be23"
      },
      "execution_count": null,
      "outputs": [
        {
          "output_type": "stream",
          "name": "stdout",
          "text": [
            "Training images:\n",
            "Found 750 images belonging to 10 classes.\n",
            "Testing images:\n",
            "Found 2500 images belonging to 10 classes.\n"
          ]
        }
      ]
    },
    {
      "cell_type": "markdown",
      "source": [
        "## Settings up callbacks (things to run whilst our model trains)\n",
        "\n",
        "Callbacks are extra functionality you can add so your models to be performed during or after training. Some of the most popular callbacks:\n",
        "\n",
        "* Tracking experiments with the Tensorboard callback\n",
        "* Model checkpoint with the ModelCheckpoint callback\n",
        "* Stopping a model from training (before it trains too long and overfits) with the EarlyStopping callback"
      ],
      "metadata": {
        "id": "MJExcbvahWTq"
      }
    },
    {
      "cell_type": "code",
      "source": [
        "# Create TensorBoard callback(functionized because we need to create a new one for each model)\n",
        "import datetime\n",
        "\n",
        "def create_tensorboard_callback(dir_name,experiment_name):\n",
        "  log_dir=dir_name+\"/\"+experiment_name+'/'+datetime.datetime.now().strftime(\"%Y%m%d-%H%M%S\")\n",
        "  tensorboard_callback=tf.keras.callbacks.TensorBoard(log_dir=log_dir)\n",
        "  print(f\"Saving Tensorboard log files to: {log_dir}\")\n",
        "  return tensorboard_callback\n"
      ],
      "metadata": {
        "id": "lfBqK14ZjlpV"
      },
      "execution_count": null,
      "outputs": []
    },
    {
      "cell_type": "markdown",
      "source": [
        "> 🔑**Note:** You can customize the directory where your Tensorboard logs (model training metrics) get saved to whatever you like.  \n",
        "The `log_dir` parameter we've created above is only one option."
      ],
      "metadata": {
        "id": "bx0sg0dblGJO"
      }
    },
    {
      "cell_type": "markdown",
      "source": [
        "## Creating models using Tensorflow Hub  \n",
        "\n",
        "In the past we've used Tensorflow to create our own models layer by layer from scratch.  \n",
        "Now we're going to do a similar process, except the majority of our model's layers are going to come from Tensorflow Hub.  \n",
        "We can access pretrained models on: https://tfhub.dev/\n",
        "\n",
        "Browsing the Tensorflow Hub page and sorting for image classification, we found the following feature vector model  link: https://tfhub.dev/tensorflow/efficientnet/b0/feature-vector/1"
      ],
      "metadata": {
        "id": "trHpJd8blZEA"
      }
    },
    {
      "cell_type": "code",
      "source": [
        "# Let's compare the following two models\n",
        "resnet_url = \"https://tfhub.dev/google/imagenet/resnet_v2_50/feature_vector/5\"\n",
        "\n",
        "efficient_url = \"https://tfhub.dev/tensorflow/efficientnet/b0/feature-vector/1\""
      ],
      "metadata": {
        "id": "4oWHla16k9VB"
      },
      "execution_count": null,
      "outputs": []
    },
    {
      "cell_type": "code",
      "source": [
        "# Import dependancies\n",
        "import tensorflow as tf\n",
        "import tensorflow_hub as hub\n",
        "from tensorflow.keras import layers"
      ],
      "metadata": {
        "id": "Mvu1IPN_nmxk"
      },
      "execution_count": null,
      "outputs": []
    },
    {
      "cell_type": "code",
      "source": [
        "# Let's make a create_model() function to create a model from URL\n",
        "def create_model(model_url,num_classes=10):\n",
        "  \"\"\"\n",
        "  Takes a Tensorflow Hub URL and create a Keras Sequential model with it.\n",
        "\n",
        "  Args:\n",
        "    model_url (str): A Tensorflow Hub feature extraction URL\n",
        "    num_classes (int): Number of output neurons in the output layer,\n",
        "    should be equal to number of target classes, default 10.\n",
        "  \n",
        "  Return:\n",
        "    An uncompiled Keras Sequential model with model_url as feature extractor\n",
        "    layer and Dense output layer with num_classes output neurons.\n",
        "  \"\"\"\n",
        "  # Download the pretrained model and save it as a Keras layer\n",
        "  feature_extractor_layer = hub.KerasLayer(model_url,\n",
        "                                           trainable=False,\n",
        "                                           name=\"feature_extraction_layer\",\n",
        "                                           input_shape=IMAGE_SHAPE+(3,))\n",
        "  \n",
        "  # Create our own model\n",
        "  model=tf.keras.models.Sequential(\n",
        "      [\n",
        "       feature_extractor_layer,\n",
        "       layers.Dense(num_classes,activation=\"softmax\",name=\"output_layer\")\n",
        "      ]\n",
        "  )\n",
        "\n",
        "  return model"
      ],
      "metadata": {
        "id": "b45tYyHwn4wQ"
      },
      "execution_count": null,
      "outputs": []
    },
    {
      "cell_type": "markdown",
      "source": [
        "### Creating ResNet Tensorflow Hub Feature Extraction model"
      ],
      "metadata": {
        "id": "PB0jWWiKpv5x"
      }
    },
    {
      "cell_type": "code",
      "source": [
        "# Create ResNet model\n",
        "resnet_model=create_model(resnet_url,\n",
        "                          num_classes=train_data_10_percent.num_classes)"
      ],
      "metadata": {
        "id": "XwW32r2YpteT"
      },
      "execution_count": null,
      "outputs": []
    },
    {
      "cell_type": "code",
      "source": [
        "# Compile our resnet model\n",
        "resnet_model.compile(loss=\"categorical_crossentropy\",\n",
        "                     optimizer=\"Adam\",\n",
        "                     metrics=[\"accuracy\"])"
      ],
      "metadata": {
        "id": "344A9OmMqbjI"
      },
      "execution_count": null,
      "outputs": []
    },
    {
      "cell_type": "code",
      "source": [
        "# Fit the model\n",
        "history_resnet = resnet_model.fit(train_data_10_percent,\n",
        "                                  epochs=5,\n",
        "                                  steps_per_epoch=len(train_data_10_percent),\n",
        "                                  validation_data=test_data_10_percent,\n",
        "                                  validation_steps=len(test_data_10_percent),\n",
        "                                  callbacks=[create_tensorboard_callback(dir_name=\"tf_hub\",experiment_name=\"resnet50V2\")])"
      ],
      "metadata": {
        "colab": {
          "base_uri": "https://localhost:8080/"
        },
        "id": "cJ0elvvOqnJg",
        "outputId": "9477836d-dbae-4666-cbfa-b40a46cc8356"
      },
      "execution_count": null,
      "outputs": [
        {
          "output_type": "stream",
          "name": "stdout",
          "text": [
            "Saving Tensorboard log files to: tf_hub/resnet50V2/20220624-171457\n",
            "Epoch 1/5\n",
            "24/24 [==============================] - 34s 742ms/step - loss: 1.9747 - accuracy: 0.3400 - val_loss: 1.2680 - val_accuracy: 0.6032\n",
            "Epoch 2/5\n",
            "24/24 [==============================] - 16s 686ms/step - loss: 0.9390 - accuracy: 0.7187 - val_loss: 0.8457 - val_accuracy: 0.7240\n",
            "Epoch 3/5\n",
            "24/24 [==============================] - 16s 684ms/step - loss: 0.6329 - accuracy: 0.8227 - val_loss: 0.7828 - val_accuracy: 0.7380\n",
            "Epoch 4/5\n",
            "24/24 [==============================] - 16s 679ms/step - loss: 0.4794 - accuracy: 0.8813 - val_loss: 0.7162 - val_accuracy: 0.7600\n",
            "Epoch 5/5\n",
            "24/24 [==============================] - 16s 683ms/step - loss: 0.3905 - accuracy: 0.9080 - val_loss: 0.6835 - val_accuracy: 0.7740\n"
          ]
        }
      ]
    },
    {
      "cell_type": "markdown",
      "source": [
        "Wow!  \n",
        "That. Is. Incredible. Our transfer learning feature extractor model outperformed ALL of the previous mdels we  built by hand... (substantially) and in a quicker training time.] AND with only 10% of the training examples."
      ],
      "metadata": {
        "id": "T2MH9ev4t-T9"
      }
    },
    {
      "cell_type": "code",
      "source": [
        "# Let's create a function to plot our loss curves...\n",
        "import matplotlib.pyplot as plt\n",
        "def plot_loss_curves(history):\n",
        "  train_loss=history.history[\"loss\"]\n",
        "  train_acc=history.history[\"accuracy\"]\n",
        "\n",
        "  val_loss=history.history[\"val_loss\"]\n",
        "  val_acc=history.history[\"val_accuracy\"]\n",
        "\n",
        "  plt.figure(figsize=(10,5))\n",
        "  plt.subplot(1,2,1)\n",
        "  plt.plot(train_loss,label=\"training\")\n",
        "  plt.plot(val_loss,label=\"testing\")\n",
        "  plt.xlabel('Epochs')\n",
        "  plt.ylabel(\"Loss\")\n",
        "  plt.legend()\n",
        "  plt.subplot(1,2,2)\n",
        "  plt.plot(train_acc,label=\"training\")\n",
        "  plt.plot(val_acc,label=\"testing\")\n",
        "  plt.xlabel('Epochs')\n",
        "  plt.ylabel(\"Accuracy\")\n",
        "  plt.legend();"
      ],
      "metadata": {
        "id": "QcjvmNlquCI9"
      },
      "execution_count": null,
      "outputs": []
    },
    {
      "cell_type": "code",
      "source": [
        "# Plot loss curves of our resnet model\n",
        "plot_loss_curves(history_resnet)"
      ],
      "metadata": {
        "colab": {
          "base_uri": "https://localhost:8080/",
          "height": 334
        },
        "id": "_zZhj1aJvsA9",
        "outputId": "2b76ae8b-a0af-49b2-8016-c58acb124ad9"
      },
      "execution_count": null,
      "outputs": [
        {
          "output_type": "display_data",
          "data": {
            "text/plain": [
              "<Figure size 720x360 with 2 Axes>"
            ],
            "image/png": "[encoded data removed]"
          },
          "metadata": {
            "needs_background": "light"
          }
        }
      ]
    },
    {
      "cell_type": "markdown",
      "source": [
        "### Creating and testing EfficientNet B0 Tensorflow Hub feature extraction model"
      ],
      "metadata": {
        "id": "_zR8urROwqqB"
      }
    },
    {
      "cell_type": "code",
      "source": [
        "# Create EfficientNetB0 feature extarctor model\n",
        "efficientnet_model=create_model(model_url=efficient_url,\n",
        "                                num_classes=train_data_10_percent.num_classes)\n",
        "\n",
        "# Compile the model\n",
        "efficientnet_model.compile(loss=\"categorical_crossentropy\",\n",
        "                           optimizer=tf.keras.optimizers.Adam(),\n",
        "                           metrics=[\"accuracy\"]\n",
        "                        )\n",
        "\n",
        "# Fit the model\n",
        "efficientnet_history=efficientnet_model.fit(train_data_10_percent,\n",
        "                                            epochs=5,\n",
        "                                            steps_per_epoch=len(train_data_10_percent),\n",
        "                                            validation_data=test_data_10_percent,\n",
        "                                            validation_steps=len(test_data_10_percent),\n",
        "                                            callbacks=[create_tensorboard_callback(dir_name='tf_hub',experiment_name=\"Efficient_netB0\")])"
      ],
      "metadata": {
        "colab": {
          "base_uri": "https://localhost:8080/"
        },
        "id": "ogovNhJawyUZ",
        "outputId": "035fd41a-3de3-4ebf-83b7-683314fe25a4"
      },
      "execution_count": null,
      "outputs": [
        {
          "output_type": "stream",
          "name": "stdout",
          "text": [
            "Saving Tensorboard log files to: tf_hub/Efficient_netB0/20220624-173745\n",
            "Epoch 1/5\n",
            "24/24 [==============================] - 27s 750ms/step - loss: 1.8378 - accuracy: 0.4280 - val_loss: 1.2768 - val_accuracy: 0.7280\n",
            "Epoch 2/5\n",
            "24/24 [==============================] - 16s 667ms/step - loss: 1.0509 - accuracy: 0.7707 - val_loss: 0.8612 - val_accuracy: 0.8180\n",
            "Epoch 3/5\n",
            "24/24 [==============================] - 16s 667ms/step - loss: 0.7528 - accuracy: 0.8253 - val_loss: 0.6909 - val_accuracy: 0.8456\n",
            "Epoch 4/5\n",
            "24/24 [==============================] - 16s 667ms/step - loss: 0.6045 - accuracy: 0.8693 - val_loss: 0.6057 - val_accuracy: 0.8552\n",
            "Epoch 5/5\n",
            "24/24 [==============================] - 15s 658ms/step - loss: 0.5086 - accuracy: 0.8973 - val_loss: 0.5511 - val_accuracy: 0.8576\n"
          ]
        }
      ]
    },
    {
      "cell_type": "code",
      "source": [
        "plot_loss_curves(efficientnet_history)"
      ],
      "metadata": {
        "colab": {
          "base_uri": "https://localhost:8080/",
          "height": 334
        },
        "id": "e4IicSxjzSNZ",
        "outputId": "1b74691e-1271-4734-c8f6-d77fa4db0565"
      },
      "execution_count": null,
      "outputs": [
        {
          "output_type": "display_data",
          "data": {
            "text/plain": [
              "<Figure size 720x360 with 2 Axes>"
            ],
            "image/png": "[encoded data removed]"
          },
          "metadata": {
            "needs_background": "light"
          }
        }
      ]
    },
    {
      "cell_type": "markdown",
      "source": [
        "## Different types of transfer learning\n",
        "\n",
        "* \"As is\" transfer learning - using an existing model with no changes whatsoever (e,g, using ImageNet model on 1000 ImageNet classes).\n",
        "* \"Feature extraction\" transfer learning - use the prelearned patterns of an existing model (e.g. What we did)\n",
        "* \"Fine-tuning\" - use the prelearned patterns of an existing model and \"fine-tune\" many or all of the underlying layers (including new output layers)"
      ],
      "metadata": {
        "id": "6tPR4z1BzvHF"
      }
    },
    {
      "cell_type": "markdown",
      "source": [
        "## Comparing our models using TensorBoard\n",
        "\n",
        "> 🔑**Note:** when you upload things to TensorBoard.dev, your experiments are public. So if you're running private experiments (things you don't want others to see) do not upload them to TensorBoard.dev"
      ],
      "metadata": {
        "id": "YkjE1da81MAR"
      }
    },
    {
      "cell_type": "code",
      "source": [
        "# Upload TensorBoard dev records\n",
        "!tensorboard dev upload --logdir ./tf_hub/ --name \"EfficientNetB0 vs. ResNet50V2\" --description \"Comparing two differnt TF hub models\" --one_shot"
      ],
      "metadata": {
        "colab": {
          "base_uri": "https://localhost:8080/"
        },
        "id": "ak6kAN-B1Ol_",
        "outputId": "80f43d28-ef4b-4609-d788-5b5dbe4e87ce"
      },
      "execution_count": null,
      "outputs": [
        {
          "output_type": "stream",
          "name": "stdout",
          "text": [
            "\n",
            "***** TensorBoard Uploader *****\n",
            "\n",
            "This will upload your TensorBoard logs to https://tensorboard.dev/ from\n",
            "the following directory:\n",
            "\n",
            "./tf_hub/\n",
            "\n",
            "This TensorBoard will be visible to everyone. Do not upload sensitive\n",
            "data.\n",
            "\n",
            "Your use of this service is subject to Google's Terms of Service\n",
            "<https://policies.google.com/terms> and Privacy Policy\n",
            "<https://policies.google.com/privacy>, and TensorBoard.dev's Terms of Service\n",
            "<https://tensorboard.dev/policy/terms/>.\n",
            "\n",
            "This notice will not be shown again while you are logged into the uploader.\n",
            "To log out, run `tensorboard dev auth revoke`.\n",
            "\n",
            "Continue? (yes/NO) yes\n",
            "\n",
            "Please visit this URL to authorize this application: https://accounts.google.com/o/oauth2/auth?response_type=code&client_id=373649185512-8v619h5kft38l4456nm2dj4ubeqsrvh6.apps.googleusercontent.com&redirect_uri=urn%3Aietf%3Awg%3Aoauth%3A2.0%3Aoob&scope=openid+https%3A%2F%2Fwww.googleapis.com%2Fauth%2Fuserinfo.email&state=7L7VN8wUh26C1B4wfuG6DJOa4ZSvti&prompt=consent&access_type=offline\n",
            "Enter the authorization code: 4/1AX4XfWiiMPcO1iuokCNPjNPWY6nygu_zOS92kfwelKOtFgmjBBvbxPhHDKY\n",
            "\n",
            "\n",
            "New experiment created. View your TensorBoard at: https://tensorboard.dev/experiment/b1L8WANGS92wxaZiRWQ5Bw/\n",
            "\n",
            "\u001b[1m[2022-06-24T17:56:11]\u001b[0m Started scanning logdir.\n",
            "\u001b[1m[2022-06-24T17:56:13]\u001b[0m Total uploaded: 60 scalars, 0 tensors, 2 binary objects (5.5 MB)\n",
            "\u001b[1m[2022-06-24T17:56:13]\u001b[0m Done scanning logdir.\n",
            "\n",
            "\n",
            "Done. View your TensorBoard at https://tensorboard.dev/experiment/b1L8WANGS92wxaZiRWQ5Bw/\n"
          ]
        }
      ]
    },
    {
      "cell_type": "markdown",
      "source": [
        "Our TensorBoard experiments are uploaed on https://tensorboard.dev/experiment/b1L8WANGS92wxaZiRWQ5Bw/"
      ],
      "metadata": {
        "id": "DZu4libD263l"
      }
    }
  ]
}