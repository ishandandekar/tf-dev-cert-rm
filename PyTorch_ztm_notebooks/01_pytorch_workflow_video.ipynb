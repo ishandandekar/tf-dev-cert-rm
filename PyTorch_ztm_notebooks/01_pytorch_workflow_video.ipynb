{
  "nbformat": 4,
  "nbformat_minor": 0,
  "metadata": {
    "colab": {
      "provenance": []
    },
    "kernelspec": {
      "name": "python3",
      "display_name": "Python 3"
    },
    "language_info": {
      "name": "python"
    }
  },
  "cells": [
    {
      "cell_type": "markdown",
      "source": [
        "# PyTorch Workflow\n",
        "\n",
        "Let's explore an example PyTorch end-to-end workflow."
      ],
      "metadata": {
        "id": "KEd4Us_Ho_Zv"
      }
    },
    {
      "cell_type": "code",
      "execution_count": null,
      "metadata": {
        "colab": {
          "base_uri": "https://localhost:8080/"
        },
        "id": "F3isPPxUozIB",
        "outputId": "445a4641-133c-4a81-e742-b9020100eab0"
      },
      "outputs": [
        {
          "output_type": "execute_result",
          "data": {
            "text/plain": [
              "{1: 'data (prepare and load)',\n",
              " 2: 'build the model',\n",
              " 3: 'fitting the model to data (training)',\n",
              " 4: 'making predictions and evaluating a model (inference)',\n",
              " 5: 'saving and loading the model',\n",
              " 6: 'putting it all together'}"
            ]
          },
          "metadata": {},
          "execution_count": 2
        }
      ],
      "source": [
        "what_we_are_covering = {\n",
        "    1: \"data (prepare and load)\",\n",
        "    2: \"build the model\",\n",
        "    3: \"fitting the model to data (training)\",\n",
        "    4: \"making predictions and evaluating a model (inference)\",\n",
        "    5: \"saving and loading the model\",\n",
        "    6: \"putting it all together\"\n",
        "}\n",
        "\n",
        "what_we_are_covering"
      ]
    },
    {
      "cell_type": "code",
      "source": [
        "import torch\n",
        "from torch import nn # nn contains all of PyTorch's building blocks for neural networks\n",
        "import matplotlib.pyplot as plt\n",
        "\n",
        "# Check PyTorch version\n",
        "torch.__version__"
      ],
      "metadata": {
        "colab": {
          "base_uri": "https://localhost:8080/",
          "height": 35
        },
        "id": "7oJ3aD3Upm2f",
        "outputId": "f3062661-861e-46a9-a134-bc059326b3ef"
      },
      "execution_count": null,
      "outputs": [
        {
          "output_type": "execute_result",
          "data": {
            "text/plain": [
              "'1.13.1+cu116'"
            ],
            "application/vnd.google.colaboratory.intrinsic+json": {
              "type": "string"
            }
          },
          "metadata": {},
          "execution_count": 3
        }
      ]
    },
    {
      "cell_type": "markdown",
      "source": [
        "## 1. Data (preparing and loading)\n",
        "\n",
        "Data can be almost anything... in machine learning.\n",
        "\n",
        "- Excel spreadsheet\n",
        "- Images of any kind\n",
        "- Videos (YouTube has a lot of data...)\n",
        "- Audio like songs or podcasts\n",
        "- DNA\n",
        "- Text\n",
        "\n",
        "Machine learning is a game of two parts:\n",
        "1. Get data into a numerical representation\n",
        "1. Build a model to learn patterns in that numerical representation.\n",
        "\n",
        "To showcase this, let's create some *known* data using the linear regression formula.\n",
        "\n",
        "We'll use a linear regression formula to make a straight line with *known* **parameters**."
      ],
      "metadata": {
        "id": "n4Kq3cCHqAqH"
      }
    },
    {
      "cell_type": "code",
      "source": [
        "# Create *known* parameters\n",
        "weight = 0.7\n",
        "bias = 0.3\n",
        "\n",
        "# Create some data\n",
        "start = 0\n",
        "end = 5\n",
        "step = 0.05\n",
        "X = torch.arange(start, end, step).unsqueeze(dim=1)\n",
        "y = weight * X + bias\n",
        "\n",
        "X[:10], y[:10]"
      ],
      "metadata": {
        "colab": {
          "base_uri": "https://localhost:8080/"
        },
        "id": "b_NSE7DLp9es",
        "outputId": "135ed473-10b6-4c39-86de-c001e4a9c559"
      },
      "execution_count": null,
      "outputs": [
        {
          "output_type": "execute_result",
          "data": {
            "text/plain": [
              "(tensor([[0.0000],\n",
              "         [0.0500],\n",
              "         [0.1000],\n",
              "         [0.1500],\n",
              "         [0.2000],\n",
              "         [0.2500],\n",
              "         [0.3000],\n",
              "         [0.3500],\n",
              "         [0.4000],\n",
              "         [0.4500]]), tensor([[0.3000],\n",
              "         [0.3350],\n",
              "         [0.3700],\n",
              "         [0.4050],\n",
              "         [0.4400],\n",
              "         [0.4750],\n",
              "         [0.5100],\n",
              "         [0.5450],\n",
              "         [0.5800],\n",
              "         [0.6150]]))"
            ]
          },
          "metadata": {},
          "execution_count": 4
        }
      ]
    },
    {
      "cell_type": "code",
      "source": [
        "len(X), len(y)"
      ],
      "metadata": {
        "colab": {
          "base_uri": "https://localhost:8080/"
        },
        "id": "CQLQptW1r3Fb",
        "outputId": "d6b21bdf-4c19-4808-bf98-a5ab929bde01"
      },
      "execution_count": null,
      "outputs": [
        {
          "output_type": "execute_result",
          "data": {
            "text/plain": [
              "(100, 100)"
            ]
          },
          "metadata": {},
          "execution_count": 5
        }
      ]
    },
    {
      "cell_type": "markdown",
      "source": [
        "### Splitting data into training and test set (one of the most important concept in ml in general)\n",
        "\n",
        "Let's create a training and test set with our data.\n",
        "\n"
      ],
      "metadata": {
        "id": "EjtbdQOlr5SM"
      }
    },
    {
      "cell_type": "code",
      "source": [
        "# Create a train/test split\n",
        "train_split = int(0.8 * len(X))\n",
        "X_train, y_train = X[:train_split], y[:train_split]\n",
        "X_test, y_test = X[train_split:], y[train_split:]\n",
        "\n",
        "len(X_train), len(y_train), len(X_test), len(y_test)"
      ],
      "metadata": {
        "colab": {
          "base_uri": "https://localhost:8080/"
        },
        "id": "D2ahujb3r4eS",
        "outputId": "47055e57-ada1-4a70-9308-07c9de0f3095"
      },
      "execution_count": null,
      "outputs": [
        {
          "output_type": "execute_result",
          "data": {
            "text/plain": [
              "(80, 80, 20, 20)"
            ]
          },
          "metadata": {},
          "execution_count": 6
        }
      ]
    },
    {
      "cell_type": "markdown",
      "source": [
        "How might we better visualize our data?\n",
        "\n",
        "This is where the data explorer's motto comes in!  \n",
        "**\"Visualize, visualize, visualize!\"**"
      ],
      "metadata": {
        "id": "HvbXiKK0tFpt"
      }
    },
    {
      "cell_type": "code",
      "source": [
        "def plot_predictions(train_data=X_train,\n",
        "                     train_labels=y_train,\n",
        "                     test_data=X_test,\n",
        "                     test_labels=y_test,\n",
        "                     predictions=None):\n",
        "  \"\"\"\n",
        "  Plots training data, test data and compares predictions.\n",
        "  \"\"\"\n",
        "  plt.figure(figsize=(10, 7))\n",
        "\n",
        "  # Plot training data in blue\n",
        "  plt.scatter(train_data, train_labels, c=\"b\", s=4, label=\"Training data\")  \n",
        "  \n",
        "  # Plot test data in green\n",
        "  plt.scatter(test_data, test_labels, c=\"g\", s=4, label=\"Test data\")  \n",
        "  \n",
        "  # Are there predictions\n",
        "  if predictions is not None:\n",
        "    # Plot the predictions\n",
        "    plt.scatter(test_data, predictions, c=\"r\", s=4, label=\"Predictions\")\n",
        "\n",
        "  # Show the legend\n",
        "  plt.legend(prop={\"size\": 14});"
      ],
      "metadata": {
        "id": "8zox9aQWs3EQ"
      },
      "execution_count": null,
      "outputs": []
    },
    {
      "cell_type": "code",
      "source": [
        "plot_predictions()"
      ],
      "metadata": {
        "colab": {
          "base_uri": "https://localhost:8080/",
          "height": 428
        },
        "id": "qyobbikswGE6",
        "outputId": "2162ea33-0723-4ba5-8c26-6472fca2425d"
      },
      "execution_count": null,
      "outputs": [
        {
          "output_type": "display_data",
          "data": {
            "text/plain": [
              "<Figure size 720x504 with 1 Axes>"
            ],
            "image/png": "[encoded data removed]"
          },
          "metadata": {
            "needs_background": "light"
          }
        }
      ]
    },
    {
      "cell_type": "markdown",
      "source": [
        "## 2. Build model\n",
        "\n",
        "Our first PyTorch model!\n",
        "\n",
        "This is very exciting... let's do it!\n",
        "\n",
        "What our model does:\n",
        "- Start with random values (weights and bias)\n",
        "- Look at training data and adjust the random values to better represent the ideal values (the weight and bias values we used to create the data).\n",
        "\n",
        "How does it do so?\n",
        "\n",
        "Through two main algorithms:\n",
        "1. Gradient descent\n",
        "1. Backpropogation"
      ],
      "metadata": {
        "id": "eW_I-4eYwaAK"
      }
    },
    {
      "cell_type": "code",
      "source": [
        "# Create linear regression model class\n",
        "class LinearRegression(nn.Module): # <- almost everything in PyTorch inherits from nn.Module\n",
        "  def __init__(self):\n",
        "    super().__init__()\n",
        "    self.weights = nn.Parameter(torch.randn(1,\n",
        "                                            requires_grad=True,\n",
        "                                            dtype=torch.float))\n",
        "    \n",
        "    self.bias = nn.Parameter(torch.randn(1,\n",
        "                                         requires_grad=True,\n",
        "                                         dtype=torch.float))\n",
        "    \n",
        "  # Forward method to define the computation in the model\n",
        "  def forward(self, x: torch.Tensor) -> torch.Tensor: # <- \"x\" is input data\n",
        "    return self.weights * x + self.bias # The linear regression formula"
      ],
      "metadata": {
        "id": "TRLdOm72wgAz"
      },
      "execution_count": null,
      "outputs": []
    },
    {
      "cell_type": "markdown",
      "source": [
        "### PyTorch model building essentials\n",
        "\n",
        "- `torch.nn` - contains all the building blocks for computational neural networks\n",
        "- `torch.nn.Parameter` - what parameter should the model try to learn (often a layer from torch.nn will set these for us)\n",
        "- `torch.nn.Module` - The base class for all neural network modules, if you subclass it, you should overwrite forward()\n",
        "- `torch.optim` - This is where the optimizers in PyTorch live, they will help with gradient descent.\n",
        "- `def forward()` - All `nn.Module` subclasses require you to overwrite `forward()`, this method defines what happens in the forward computation.\n",
        "\n",
        "https://pytorch.org/tutorials/beginner/ptcheat.html"
      ],
      "metadata": {
        "id": "EnLPVIpT0Vch"
      }
    },
    {
      "cell_type": "markdown",
      "source": [
        "### Checking the contents of our PyTorch model\n",
        "\n",
        "Now we've created a model, let's see what's inside...\n",
        "\n",
        "So we can check our model parameters or what's inside our model using `.paramters()`."
      ],
      "metadata": {
        "id": "Yzv1VDxd3lQ3"
      }
    },
    {
      "cell_type": "code",
      "source": [
        "# Create a random seed\n",
        "torch.manual_seed(42)\n",
        "\n",
        "# Create an instance of the model\n",
        "model_0 = LinearRegression()\n",
        "\n",
        "# Checkout the parameters\n",
        "list(model_0.parameters())"
      ],
      "metadata": {
        "colab": {
          "base_uri": "https://localhost:8080/"
        },
        "id": "3XFjJTnw0O6p",
        "outputId": "b3b84b8f-a5e3-4baa-ac91-f9841ca35b2a"
      },
      "execution_count": null,
      "outputs": [
        {
          "output_type": "execute_result",
          "data": {
            "text/plain": [
              "[Parameter containing:\n",
              " tensor([0.3367], requires_grad=True), Parameter containing:\n",
              " tensor([0.1288], requires_grad=True)]"
            ]
          },
          "metadata": {},
          "execution_count": 75
        }
      ]
    },
    {
      "cell_type": "code",
      "source": [
        "# List named parameters\n",
        "model_0.state_dict()"
      ],
      "metadata": {
        "colab": {
          "base_uri": "https://localhost:8080/"
        },
        "id": "glaYJRq04BzX",
        "outputId": "e25d5afd-86ef-42f0-ae3f-0d3ab3beb494"
      },
      "execution_count": null,
      "outputs": [
        {
          "output_type": "execute_result",
          "data": {
            "text/plain": [
              "OrderedDict([('weights', tensor([0.3367])), ('bias', tensor([0.1288]))])"
            ]
          },
          "metadata": {},
          "execution_count": 76
        }
      ]
    },
    {
      "cell_type": "code",
      "source": [
        "weight, bias"
      ],
      "metadata": {
        "colab": {
          "base_uri": "https://localhost:8080/"
        },
        "id": "uZMzybeJ5Fbw",
        "outputId": "30635f43-5f4c-410b-cb41-d4fa8520999b"
      },
      "execution_count": null,
      "outputs": [
        {
          "output_type": "execute_result",
          "data": {
            "text/plain": [
              "(0.7, 0.3)"
            ]
          },
          "metadata": {},
          "execution_count": 77
        }
      ]
    },
    {
      "cell_type": "markdown",
      "source": [
        "### Making prediction using `torch.inference_model()`\n",
        "\n",
        "To check our model's predictive power, let's see how well it predicts `y_test` based on `X_test`.\n",
        "\n",
        "When we pass data through our model, it's going to run it through the `forward()` method."
      ],
      "metadata": {
        "id": "p_Qoi7qs5X4M"
      }
    },
    {
      "cell_type": "code",
      "source": [
        "# Make predictions with model:\n",
        "with torch.inference_mode():\n",
        "  y_preds = model_0(X_test)\n",
        "\n",
        "y_preds"
      ],
      "metadata": {
        "colab": {
          "base_uri": "https://localhost:8080/"
        },
        "id": "el-YAOcm5KD1",
        "outputId": "d4f49024-b0bf-4ae8-eb2a-4bac792a360a"
      },
      "execution_count": null,
      "outputs": [
        {
          "output_type": "execute_result",
          "data": {
            "text/plain": [
              "tensor([[1.4756],\n",
              "        [1.4924],\n",
              "        [1.5092],\n",
              "        [1.5261],\n",
              "        [1.5429],\n",
              "        [1.5597],\n",
              "        [1.5766],\n",
              "        [1.5934],\n",
              "        [1.6102],\n",
              "        [1.6271],\n",
              "        [1.6439],\n",
              "        [1.6608],\n",
              "        [1.6776],\n",
              "        [1.6944],\n",
              "        [1.7113],\n",
              "        [1.7281],\n",
              "        [1.7449],\n",
              "        [1.7618],\n",
              "        [1.7786],\n",
              "        [1.7954]])"
            ]
          },
          "metadata": {},
          "execution_count": 78
        }
      ]
    },
    {
      "cell_type": "code",
      "source": [
        "y_test"
      ],
      "metadata": {
        "colab": {
          "base_uri": "https://localhost:8080/"
        },
        "id": "6tso7hFj59Vc",
        "outputId": "a8594c4b-07b5-41d5-948c-60a6b487334c"
      },
      "execution_count": null,
      "outputs": [
        {
          "output_type": "execute_result",
          "data": {
            "text/plain": [
              "tensor([[3.1000],\n",
              "        [3.1350],\n",
              "        [3.1700],\n",
              "        [3.2050],\n",
              "        [3.2400],\n",
              "        [3.2750],\n",
              "        [3.3100],\n",
              "        [3.3450],\n",
              "        [3.3800],\n",
              "        [3.4150],\n",
              "        [3.4500],\n",
              "        [3.4850],\n",
              "        [3.5200],\n",
              "        [3.5550],\n",
              "        [3.5900],\n",
              "        [3.6250],\n",
              "        [3.6600],\n",
              "        [3.6950],\n",
              "        [3.7300],\n",
              "        [3.7650]])"
            ]
          },
          "metadata": {},
          "execution_count": 79
        }
      ]
    },
    {
      "cell_type": "code",
      "source": [
        "plot_predictions(predictions=y_preds)"
      ],
      "metadata": {
        "colab": {
          "base_uri": "https://localhost:8080/",
          "height": 428
        },
        "id": "gT7jvyJP6qYy",
        "outputId": "2be631e2-7524-4d9f-f21a-ab03afba0dd5"
      },
      "execution_count": null,
      "outputs": [
        {
          "output_type": "display_data",
          "data": {
            "text/plain": [
              "<Figure size 720x504 with 1 Axes>"
            ],
            "image/png": "[encoded data removed]"
          },
          "metadata": {
            "needs_background": "light"
          }
        }
      ]
    },
    {
      "cell_type": "markdown",
      "source": [
        "## 3. Train model\n",
        "\n",
        "The whole idea of training is for a model to move from some *unknown* parameters (these may be random) to some *known* parameters.\n",
        "\n",
        "Or in other words from a poor representation of the data to a better representation of the data.\n",
        "\n",
        "One way to measure how poor or how wrong your model's predictions are is to use a loss function.\n",
        "\n",
        "> **Note:** Loss function may also be called cost function or criterion in different areas. For our case, we're going to refer to it as a loss function.\n",
        "\n",
        "Things we need to train the model:\n",
        "\n",
        "- **Loss function:** A function to measure how wrong your model's predictions are to the ideal outputs, lower is better.\n",
        "- **Optimizer:** Takes into account the loss of a model and adjusts the model's parameters (weights and biases) to improve the loss function.\n",
        "  - Inside the optimizer you'll often have to set two parameters:\n",
        "    - `params` : the model parameters you'd like to optimize, for example `params=model_0.parameters()`\n",
        "    - `lr` : the learning rate is a hyperparameter that defines how big/small the optimizer changes the parameters with each step (a small `lr` results in small change, a large `lr` results in large changes).\n",
        "\n",
        "And specifically for PyTorch, we need:\n",
        "- A training loop\n",
        "- A testing loop"
      ],
      "metadata": {
        "id": "wJ0PaXdw8xKP"
      }
    },
    {
      "cell_type": "code",
      "source": [
        "# Setup a loss function\n",
        "loss_fn = nn.L1Loss()\n",
        "\n",
        "# Setup an optimizer\n",
        "optimizer = torch.optim.SGD(params=model_0.parameters(),\n",
        "                            lr=0.01) # One of the most important hyperparameters"
      ],
      "metadata": {
        "id": "etqlG4dH9F_H"
      },
      "execution_count": null,
      "outputs": []
    },
    {
      "cell_type": "markdown",
      "source": [
        "**Q.** Which loss function and optimizer should I use?\n",
        "\n",
        "**A.** This will be problem specific. But with experiance, you'll get an idea of what works and what doesn't with your particular problem set.\n",
        "\n",
        "For example, for a regression problem (like ours), a loss function of `nn.L1Loss()` and an optimizer like `torch.optim.SGD()` will suffice.\n",
        "\n",
        "But for a classification problem like classifying whether a photo is of a dog or cat, you'll likely want to use a loss function of `nn.BCELoss()` (binary cross entropy loss)."
      ],
      "metadata": {
        "id": "Kod42L0MANQN"
      }
    },
    {
      "cell_type": "markdown",
      "source": [
        "### Building a training loop (and a testing loop) in PyTorch\n",
        "\n",
        "A couple of things we need in a training loop:\n",
        "0. Loop through the data\n",
        "1. Forward pass (this involves data moving through our model's `forward()` functions)\n",
        "2. Calculate the loss (compare forward pass predictions to ground truth labels)\n",
        "3. Optimizer zero grad\n",
        "4. Loss backward - move backwards through the network to calculate the graidents of each of the parameters of our model with respect to the loss\n",
        "5 Optimizer step - use the optimizer to adjust our model's parameters to try and improve the loss."
      ],
      "metadata": {
        "id": "z0B5sXD1Bu_j"
      }
    },
    {
      "cell_type": "code",
      "source": [
        "torch.manual_seed(42)\n",
        "\n",
        "# An epoch is one loop through the data...\n",
        "epochs = 200\n",
        "\n",
        "# Track different values\n",
        "epoch_count = []\n",
        "loss_values = []\n",
        "test_loss_values = []\n",
        "\n",
        "### Training\n",
        "# 0. Loop through the data\n",
        "for epoch in range(epochs):\n",
        "  # Set the model to training mode\n",
        "  model_0.train() # train mode in PyTorch sets all parameters that require gradients to require gradient\n",
        "\n",
        "  # 1. Forward pass\n",
        "  y_pred = model_0(X_train)\n",
        "\n",
        "  # 2. Calculate the loss\n",
        "  loss = loss_fn(y_pred, y_train)\n",
        "\n",
        "  # 3. Optimizer zero grad\n",
        "  optimizer.zero_grad()\n",
        "\n",
        "  # 4. Perform backpropogation on the loss with repoect to the parameters of the model\n",
        "  loss.backward()\n",
        "\n",
        "  # 5. Step the optimizer (perform gradient descent)\n",
        "  optimizer.step() # by default how the optimizer changes will accumulate through the loop so... we have to zero them\n",
        "\n",
        "  ### Testing\n",
        "  model_0.eval() # turns off the training mode, turns off different settings in the model not needed for evaluation/testing (dropout/batch-norm)\n",
        "  with torch.inference_mode(): # turns off gradient tracking & a couple more things behind the scenes\n",
        "    # 1. Do the forward pass\n",
        "    test_preds = model_0(X_test)\n",
        "\n",
        "    # 2. Calculate the loss\n",
        "    test_loss = loss_fn(test_preds, y_test)\n",
        "\n",
        "  # Print out what's happenin\n",
        "  if epoch%10 == 0:\n",
        "    epoch_count.append(epoch)\n",
        "    loss_values.append(loss)\n",
        "    test_loss_values.append(test_loss)\n",
        "    print(f\"Epoch: {epoch} | Loss: {loss} | Test loss: {test_loss}\")\n",
        "\n",
        "  # Print out model state_dict()\n",
        "print(model_0.state_dict())"
      ],
      "metadata": {
        "colab": {
          "base_uri": "https://localhost:8080/"
        },
        "id": "zH2uFo8jAMzk",
        "outputId": "dad7594d-0dcd-432f-d99a-b669b4e67b40"
      },
      "execution_count": null,
      "outputs": [
        {
          "output_type": "stream",
          "name": "stdout",
          "text": [
            "Epoch: 0 | Loss: 0.888727068901062 | Test loss: 1.6986198425292969\n",
            "Epoch: 10 | Loss: 0.39866453409194946 | Test loss: 0.714807391166687\n",
            "Epoch: 20 | Loss: 0.01886375993490219 | Test loss: 0.05000125244259834\n",
            "Epoch: 30 | Loss: 0.022329604253172874 | Test loss: 0.04802744463086128\n",
            "Epoch: 40 | Loss: 0.022329604253172874 | Test loss: 0.04802744463086128\n",
            "Epoch: 50 | Loss: 0.022329604253172874 | Test loss: 0.04802744463086128\n",
            "Epoch: 60 | Loss: 0.022329604253172874 | Test loss: 0.04802744463086128\n",
            "Epoch: 70 | Loss: 0.022329604253172874 | Test loss: 0.04802744463086128\n",
            "Epoch: 80 | Loss: 0.022329604253172874 | Test loss: 0.04802744463086128\n",
            "Epoch: 90 | Loss: 0.022329604253172874 | Test loss: 0.04802744463086128\n",
            "Epoch: 100 | Loss: 0.022329604253172874 | Test loss: 0.04802744463086128\n",
            "Epoch: 110 | Loss: 0.022329604253172874 | Test loss: 0.04802744463086128\n",
            "Epoch: 120 | Loss: 0.022329604253172874 | Test loss: 0.04802744463086128\n",
            "Epoch: 130 | Loss: 0.022329604253172874 | Test loss: 0.04802744463086128\n",
            "Epoch: 140 | Loss: 0.022329604253172874 | Test loss: 0.04802744463086128\n",
            "Epoch: 150 | Loss: 0.022329604253172874 | Test loss: 0.04802744463086128\n",
            "Epoch: 160 | Loss: 0.022329604253172874 | Test loss: 0.04802744463086128\n",
            "Epoch: 170 | Loss: 0.022329604253172874 | Test loss: 0.04802744463086128\n",
            "Epoch: 180 | Loss: 0.022329604253172874 | Test loss: 0.04802744463086128\n",
            "Epoch: 190 | Loss: 0.022329604253172874 | Test loss: 0.04802744463086128\n",
            "OrderedDict([('weights', tensor([0.6888])), ('bias', tensor([0.2998]))])\n"
          ]
        }
      ]
    },
    {
      "cell_type": "code",
      "source": [
        "# Plot the loss curves\n",
        "import numpy as np\n",
        "\n",
        "plt.plot(epoch_count, np.array(torch.tensor(loss_values).numpy()), label=\"Train loss\")\n",
        "plt.plot(epoch_count, np.array(torch.tensor(test_loss_values).numpy()), label=\"Test loss\")\n",
        "plt.title(\"Loss curves\")\n",
        "plt.ylabel(\"Loss\")\n",
        "plt.xlabel(\"Epochs\")\n",
        "plt.legend();"
      ],
      "metadata": {
        "colab": {
          "base_uri": "https://localhost:8080/",
          "height": 295
        },
        "id": "XqHxt9tOyN8Z",
        "outputId": "d3c0bd4d-ff7a-4c06-9001-1095a9163c8f"
      },
      "execution_count": null,
      "outputs": [
        {
          "output_type": "display_data",
          "data": {
            "text/plain": [
              "<Figure size 432x288 with 1 Axes>"
            ],
            "image/png": "[encoded data removed]"
          },
          "metadata": {
            "needs_background": "light"
          }
        }
      ]
    },
    {
      "cell_type": "code",
      "source": [
        "with torch.inference_mode():\n",
        "  y_preds = model_0(X_test)\n",
        "\n",
        "plot_predictions(predictions=y_preds)"
      ],
      "metadata": {
        "colab": {
          "base_uri": "https://localhost:8080/",
          "height": 428
        },
        "id": "IMp1-IWmuBep",
        "outputId": "556208f0-d161-4bde-fb73-bb9d9b0bebab"
      },
      "execution_count": null,
      "outputs": [
        {
          "output_type": "display_data",
          "data": {
            "text/plain": [
              "<Figure size 720x504 with 1 Axes>"
            ],
            "image/png": "[encoded data removed]"
          },
          "metadata": {
            "needs_background": "light"
          }
        }
      ]
    },
    {
      "cell_type": "markdown",
      "source": [
        "## Saving a model in PyTorch\n",
        "\n",
        "There are three man methods you should about for saving and loading models in PyTorch.\n",
        "1. `torch.save()` - allows you save a PyTorch object using pickle format\n",
        "1. `torch.load()` - allows you to load a saved PyTorch object\n",
        "1. `torch.nn.Module.load_state_dict()` - this allows to load a model's saved state dictionary"
      ],
      "metadata": {
        "id": "nUJsHHmszV9w"
      }
    },
    {
      "cell_type": "code",
      "source": [
        "# Saving our PyTorch model\n",
        "from pathlib import Path\n",
        "\n",
        "# 1. Create models directory\n",
        "MODEL_PATH = Path(\"models\")\n",
        "MODEL_PATH.mkdir(parents=True, exist_ok=True)\n",
        "\n",
        "# 2. Create model save path\n",
        "MODEL_NAME = \"01_pytorch_workflow_model_0.pth\"\n",
        "MODEL_SAVE_PATH = MODEL_PATH / MODEL_NAME\n",
        "\n",
        "# 3. Save the state_dict\n",
        "print(f\"Saving model to: {MODEL_SAVE_PATH}\")\n",
        "torch.save(obj=model_0.state_dict(),\n",
        "           f=MODEL_SAVE_PATH)"
      ],
      "metadata": {
        "colab": {
          "base_uri": "https://localhost:8080/"
        },
        "id": "9oDv7Rp0zYgv",
        "outputId": "9e793476-41b5-4d13-8b83-04228eef99f5"
      },
      "execution_count": null,
      "outputs": [
        {
          "output_type": "stream",
          "name": "stdout",
          "text": [
            "Saving model to: models/01_pytorch_workflow_model_0.pth\n"
          ]
        }
      ]
    },
    {
      "cell_type": "markdown",
      "source": [
        "## Loading a PyTorch model\n",
        "\n",
        "Since we saved our model's `state_dict()` rather than the entire model, we'll create a new instance of our model class and load the saved `state_dict()` into that."
      ],
      "metadata": {
        "id": "qhYUcv0A2IwS"
      }
    },
    {
      "cell_type": "code",
      "source": [
        "# To load in a saved state_dict we have to instantiate a new instance of our model class\n",
        "loaded_model_0 = LinearRegression()\n",
        "\n",
        "# Load the saved state_dict of model_0 (this will update the new instance with updated parameters)\n",
        "loaded_model_0.load_state_dict(torch.load(f=MODEL_SAVE_PATH))"
      ],
      "metadata": {
        "colab": {
          "base_uri": "https://localhost:8080/"
        },
        "id": "KasAfzom2YIp",
        "outputId": "4a636289-d374-48ed-d4c6-5c07a4a57fea"
      },
      "execution_count": null,
      "outputs": [
        {
          "output_type": "execute_result",
          "data": {
            "text/plain": [
              "<All keys matched successfully>"
            ]
          },
          "metadata": {},
          "execution_count": 87
        }
      ]
    },
    {
      "cell_type": "code",
      "source": [
        "# Make some predictions with our loaded model\n",
        "loaded_model_0.eval()\n",
        "with torch.inference_mode():\n",
        "  y_preds = loaded_model_0(X_test)"
      ],
      "metadata": {
        "id": "kUQP88A8272t"
      },
      "execution_count": null,
      "outputs": []
    },
    {
      "cell_type": "code",
      "source": [
        "# Compare loaded model preds\n",
        "plot_predictions(predictions=y_preds);"
      ],
      "metadata": {
        "colab": {
          "base_uri": "https://localhost:8080/",
          "height": 428
        },
        "id": "6pxbE0cr3NSY",
        "outputId": "651f889f-0ab4-4307-a482-37ac5376419a"
      },
      "execution_count": null,
      "outputs": [
        {
          "output_type": "display_data",
          "data": {
            "text/plain": [
              "<Figure size 720x504 with 1 Axes>"
            ],
            "image/png": "[encoded data removed]"
          },
          "metadata": {
            "needs_background": "light"
          }
        }
      ]
    },
    {
      "cell_type": "markdown",
      "source": [
        "## Putting it all together\n",
        "\n",
        "Let's go back through the steps above and see it all in one place."
      ],
      "metadata": {
        "id": "zJjKdp5l3jYH"
      }
    },
    {
      "cell_type": "code",
      "source": [
        "# Import PyTorch and matplotlib\n",
        "import torch\n",
        "from torch import nn\n",
        "import matplotlib.pyplot as plt\n",
        "import numpy as np\n",
        "\n",
        "# Check PyTorch version\n",
        "torch.__version__"
      ],
      "metadata": {
        "colab": {
          "base_uri": "https://localhost:8080/",
          "height": 35
        },
        "id": "OJAP723y3zMS",
        "outputId": "8b50a6de-24e9-44c5-c091-f5614dc23063"
      },
      "execution_count": 1,
      "outputs": [
        {
          "output_type": "execute_result",
          "data": {
            "text/plain": [
              "'1.13.1+cu116'"
            ],
            "application/vnd.google.colaboratory.intrinsic+json": {
              "type": "string"
            }
          },
          "metadata": {},
          "execution_count": 1
        }
      ]
    },
    {
      "cell_type": "markdown",
      "source": [
        "Create device agnostic code.\n",
        "\n",
        "For potentially faster computing;"
      ],
      "metadata": {
        "id": "9fHnW-8P4AFL"
      }
    },
    {
      "cell_type": "code",
      "source": [
        "# Setup device agnostic code\n",
        "device = \"cuda\" if torch.cuda.is_available() else \"cpu\"\n",
        "print(f\"Using device: {device}\")"
      ],
      "metadata": {
        "colab": {
          "base_uri": "https://localhost:8080/"
        },
        "id": "eRvEMQ5M4IJp",
        "outputId": "89295193-c47d-4b92-b50e-28e99324e62d"
      },
      "execution_count": 2,
      "outputs": [
        {
          "output_type": "stream",
          "name": "stdout",
          "text": [
            "Using device: cpu\n"
          ]
        }
      ]
    },
    {
      "cell_type": "markdown",
      "source": [
        "### Data"
      ],
      "metadata": {
        "id": "G83mghYi3uLX"
      }
    },
    {
      "cell_type": "code",
      "source": [
        "# Create some data using the linear regression data using weights and bias\n",
        "weight = 0.7\n",
        "bias = 0.3\n",
        "\n",
        "# Create range values\n",
        "start = 0\n",
        "end = 2\n",
        "step = 0.02\n",
        "\n",
        "# Create X and y (features and labels)\n",
        "X = torch.arange(start, end, step).unsqueeze(dim=1) # without unsqueeze, erros will pop-up\n",
        "y = weight * X + bias\n",
        "\n",
        "X[:10], y[:10]"
      ],
      "metadata": {
        "id": "ErhPm68Y3shj",
        "colab": {
          "base_uri": "https://localhost:8080/"
        },
        "outputId": "be0bd471-f30d-42c4-8752-2ce974d9977b"
      },
      "execution_count": 11,
      "outputs": [
        {
          "output_type": "execute_result",
          "data": {
            "text/plain": [
              "(tensor([[0.0000],\n",
              "         [0.0200],\n",
              "         [0.0400],\n",
              "         [0.0600],\n",
              "         [0.0800],\n",
              "         [0.1000],\n",
              "         [0.1200],\n",
              "         [0.1400],\n",
              "         [0.1600],\n",
              "         [0.1800]]), tensor([[0.3000],\n",
              "         [0.3140],\n",
              "         [0.3280],\n",
              "         [0.3420],\n",
              "         [0.3560],\n",
              "         [0.3700],\n",
              "         [0.3840],\n",
              "         [0.3980],\n",
              "         [0.4120],\n",
              "         [0.4260]]))"
            ]
          },
          "metadata": {},
          "execution_count": 11
        }
      ]
    },
    {
      "cell_type": "code",
      "source": [
        "def plot_predictions(train_data=X_train,\n",
        "                     train_labels=y_train,\n",
        "                     test_data=X_test,\n",
        "                     test_labels=y_test,\n",
        "                     predictions=None):\n",
        "  \"\"\"\n",
        "  Plots training data, test data and compares predictions.\n",
        "  \"\"\"\n",
        "  plt.figure(figsize=(10, 7))\n",
        "\n",
        "  # Plot training data in blue\n",
        "  plt.scatter(train_data, train_labels, c=\"b\", s=4, label=\"Training data\")  \n",
        "  \n",
        "  # Plot test data in green\n",
        "  plt.scatter(test_data, test_labels, c=\"g\", s=4, label=\"Test data\")  \n",
        "  \n",
        "  # Are there predictions\n",
        "  if predictions is not None:\n",
        "    # Plot the predictions\n",
        "    plt.scatter(test_data, predictions, c=\"r\", s=4, label=\"Predictions\")\n",
        "\n",
        "  # Show the legend\n",
        "  plt.legend(prop={\"size\": 14});"
      ],
      "metadata": {
        "id": "FqN_PFVPdOFI"
      },
      "execution_count": 12,
      "outputs": []
    },
    {
      "cell_type": "code",
      "source": [
        "# Split the data\n",
        "train_split = int(0.8 * len(X))\n",
        "X_train, y_train = X[:train_split], y[:train_split]\n",
        "X_test, y_test = X[train_split:], y[train_split:]\n",
        "plot_predictions();"
      ],
      "metadata": {
        "colab": {
          "base_uri": "https://localhost:8080/",
          "height": 428
        },
        "id": "VTf9cU5rc0ME",
        "outputId": "00abfb19-492d-4121-9dd1-e545266db182"
      },
      "execution_count": 13,
      "outputs": [
        {
          "output_type": "display_data",
          "data": {
            "text/plain": [
              "<Figure size 720x504 with 1 Axes>"
            ],
            "image/png": "[encoded data removed]"
          },
          "metadata": {
            "needs_background": "light"
          }
        }
      ]
    },
    {
      "cell_type": "markdown",
      "source": [
        "### Building a PyTorch linear model"
      ],
      "metadata": {
        "id": "XqRFGnxodsJy"
      }
    },
    {
      "cell_type": "code",
      "source": [
        "# Linear model\n",
        "class LinearRegressionModelV2(nn.Module):\n",
        "  def __init__(self):\n",
        "    super().__init__()\n",
        "\n",
        "    # Use nn.Linear() for creating model parameters\n",
        "    self.linear_layer = nn.Linear(in_features=1,\n",
        "                                  out_features=1) # Applies y = w * x + b formula\n",
        "    \n",
        "  def forward(self, x: torch.Tensor) -> torch.Tensor:\n",
        "    return self.linear_layer(x)\n",
        "\n",
        "# Set the manual seed\n",
        "torch.manual_seed(42)\n",
        "model_1 = LinearRegressionModelV2()\n",
        "model_1, model_1.state_dict()"
      ],
      "metadata": {
        "colab": {
          "base_uri": "https://localhost:8080/"
        },
        "id": "tWj4PIq7dpgR",
        "outputId": "649cbb52-25bb-472f-8a2f-0623492c9802"
      },
      "execution_count": 14,
      "outputs": [
        {
          "output_type": "execute_result",
          "data": {
            "text/plain": [
              "(LinearRegressionModelV2(\n",
              "   (linear_layer): Linear(in_features=1, out_features=1, bias=True)\n",
              " ),\n",
              " OrderedDict([('linear_layer.weight', tensor([[0.7645]])),\n",
              "              ('linear_layer.bias', tensor([0.8300]))]))"
            ]
          },
          "metadata": {},
          "execution_count": 14
        }
      ]
    },
    {
      "cell_type": "code",
      "source": [
        "# Set the model to use the target devide\n",
        "model_1.to(device)\n",
        "next(model_1.parameters()).device"
      ],
      "metadata": {
        "colab": {
          "base_uri": "https://localhost:8080/"
        },
        "id": "mW7ic5WMhy_J",
        "outputId": "056d8b01-7b75-4fbc-b763-65daa2932469"
      },
      "execution_count": 15,
      "outputs": [
        {
          "output_type": "execute_result",
          "data": {
            "text/plain": [
              "device(type='cpu')"
            ]
          },
          "metadata": {},
          "execution_count": 15
        }
      ]
    },
    {
      "cell_type": "markdown",
      "source": [
        "### Training\n",
        "\n",
        "For training we need:\n",
        "* Loss function\n",
        "- Optimizer\n",
        "- Training loop\n",
        "- Testing loop"
      ],
      "metadata": {
        "id": "aZZrYXkWh_EB"
      }
    },
    {
      "cell_type": "code",
      "source": [
        "# Setup loss function\n",
        "loss_fn = nn.L1Loss()\n",
        "\n",
        "# Setup our optimizer\n",
        "optimizer = torch.optim.SGD(params=model_1.parameters(),\n",
        "                            lr=0.01)"
      ],
      "metadata": {
        "id": "IlSlBuK3h98a"
      },
      "execution_count": 17,
      "outputs": []
    },
    {
      "cell_type": "code",
      "source": [
        "# Setup training loo\n",
        "torch.manual_seed(42)\n",
        "\n",
        "epochs = 200\n",
        "\n",
        "# Put data on the target device\n",
        "X_train = X_train.to(device)\n",
        "X_test = X_test.to(device)\n",
        "y_train = y_train.to(device)\n",
        "y_test = y_test.to(device)\n",
        "\n",
        "for _ in range(epochs):\n",
        "  model_1.train()\n",
        "\n",
        "  # 1. Forward pass\n",
        "  y_pred = model_1(X_train)\n",
        "\n",
        "  # 2. Calculate the loss\n",
        "  loss = loss_fn(y_pred, y_train)\n",
        "\n",
        "  # 3. Optimizer zero grad\n",
        "  optimizer.zero_grad()\n",
        "\n",
        "  # 4. Back prop\n",
        "  loss.backward()\n",
        "\n",
        "  # 5. gradient descent\n",
        "  optimizer.step()\n",
        "\n",
        "  ### Testing\n",
        "  model_1.eval()\n",
        "  with torch.inference_mode():\n",
        "    test_pred = model_1(X_test)\n",
        "\n",
        "    test_loss = loss_fn(test_pred, y_test)\n",
        "\n",
        "  # Print out what's happening\n",
        "  if _ % 10 == 0:\n",
        "    print(f\"Epoch: {_} | Loss: {loss} | Test loss: {test_loss}\")"
      ],
      "metadata": {
        "colab": {
          "base_uri": "https://localhost:8080/"
        },
        "id": "AcqJB_wLidDa",
        "outputId": "c9affffc-d75e-41c6-d448-19f50fc6d794"
      },
      "execution_count": 19,
      "outputs": [
        {
          "output_type": "stream",
          "name": "stdout",
          "text": [
            "Epoch: 0 | Loss: 0.5809932947158813 | Test loss: 0.6213908791542053\n",
            "Epoch: 10 | Loss: 0.4185834527015686 | Test loss: 0.37998098134994507\n",
            "Epoch: 20 | Loss: 0.2561735510826111 | Test loss: 0.1385711133480072\n",
            "Epoch: 30 | Loss: 0.10299072414636612 | Test loss: 0.08629216253757477\n",
            "Epoch: 40 | Loss: 0.07775498926639557 | Test loss: 0.13390929996967316\n",
            "Epoch: 50 | Loss: 0.06794779002666473 | Test loss: 0.12994453310966492\n",
            "Epoch: 60 | Loss: 0.05881597846746445 | Test loss: 0.11492715030908585\n",
            "Epoch: 70 | Loss: 0.049724116921424866 | Test loss: 0.09719113260507584\n",
            "Epoch: 80 | Loss: 0.04063038155436516 | Test loss: 0.07877559959888458\n",
            "Epoch: 90 | Loss: 0.03153926506638527 | Test loss: 0.061039578169584274\n",
            "Epoch: 100 | Loss: 0.022444790229201317 | Test loss: 0.042624033987522125\n",
            "Epoch: 110 | Loss: 0.013354110531508923 | Test loss: 0.02488803304731846\n",
            "Epoch: 120 | Loss: 0.004259181674569845 | Test loss: 0.006472515873610973\n",
            "Epoch: 130 | Loss: 0.0025801663286983967 | Test loss: 0.01860066130757332\n",
            "Epoch: 140 | Loss: 0.0025801663286983967 | Test loss: 0.01860066130757332\n",
            "Epoch: 150 | Loss: 0.0025801663286983967 | Test loss: 0.01860066130757332\n",
            "Epoch: 160 | Loss: 0.0025801663286983967 | Test loss: 0.01860066130757332\n",
            "Epoch: 170 | Loss: 0.0025801663286983967 | Test loss: 0.01860066130757332\n",
            "Epoch: 180 | Loss: 0.0025801663286983967 | Test loss: 0.01860066130757332\n",
            "Epoch: 190 | Loss: 0.0025801663286983967 | Test loss: 0.01860066130757332\n"
          ]
        }
      ]
    },
    {
      "cell_type": "code",
      "source": [
        "model_1.state_dict()"
      ],
      "metadata": {
        "colab": {
          "base_uri": "https://localhost:8080/"
        },
        "id": "LUkncM23kKOX",
        "outputId": "a1e2ff7a-0c5b-45ef-ee69-e7f246afc87d"
      },
      "execution_count": 20,
      "outputs": [
        {
          "output_type": "execute_result",
          "data": {
            "text/plain": [
              "OrderedDict([('linear_layer.weight', tensor([[0.6970]])),\n",
              "             ('linear_layer.bias', tensor([0.2998]))])"
            ]
          },
          "metadata": {},
          "execution_count": 20
        }
      ]
    },
    {
      "cell_type": "markdown",
      "source": [
        "### Making and evaluating predictions"
      ],
      "metadata": {
        "id": "IsO6-qHFkaUr"
      }
    },
    {
      "cell_type": "code",
      "source": [
        "# Turn the model into evaluation mode\n",
        "model_1.eval()\n",
        "\n",
        "# Make predictions on the test data\n",
        "with torch.inference_mode():\n",
        "  y_preds = model_1(X_test)\n",
        "\n",
        "y_preds"
      ],
      "metadata": {
        "colab": {
          "base_uri": "https://localhost:8080/"
        },
        "id": "8Yoxt-oVkRyT",
        "outputId": "967ae43f-68b3-460d-b04a-532c1b992735"
      },
      "execution_count": 21,
      "outputs": [
        {
          "output_type": "execute_result",
          "data": {
            "text/plain": [
              "tensor([[1.4150],\n",
              "        [1.4290],\n",
              "        [1.4429],\n",
              "        [1.4568],\n",
              "        [1.4708],\n",
              "        [1.4847],\n",
              "        [1.4987],\n",
              "        [1.5126],\n",
              "        [1.5265],\n",
              "        [1.5405],\n",
              "        [1.5544],\n",
              "        [1.5684],\n",
              "        [1.5823],\n",
              "        [1.5963],\n",
              "        [1.6102],\n",
              "        [1.6241],\n",
              "        [1.6381],\n",
              "        [1.6520],\n",
              "        [1.6660],\n",
              "        [1.6799]])"
            ]
          },
          "metadata": {},
          "execution_count": 21
        }
      ]
    },
    {
      "cell_type": "code",
      "source": [
        "# Check out our model predictions visually\n",
        "plot_predictions(predictions=y_preds.cpu())"
      ],
      "metadata": {
        "colab": {
          "base_uri": "https://localhost:8080/",
          "height": 428
        },
        "id": "fUtON5hjkrlP",
        "outputId": "2b167f6c-75b2-48da-d176-275ef35f29de"
      },
      "execution_count": 22,
      "outputs": [
        {
          "output_type": "display_data",
          "data": {
            "text/plain": [
              "<Figure size 720x504 with 1 Axes>"
            ],
            "image/png": "[encoded data removed]"
          },
          "metadata": {
            "needs_background": "light"
          }
        }
      ]
    },
    {
      "cell_type": "markdown",
      "source": [
        "### Saving and loading the trained model"
      ],
      "metadata": {
        "id": "IOJ5y65hmaJb"
      }
    },
    {
      "cell_type": "code",
      "source": [
        "from pathlib import Path\n",
        "\n",
        "# 1. Create models directory\n",
        "MODEL_PATH = Path(\"models\")\n",
        "MODEL_PATH.mkdir(parents=True, exist_ok=True)\n",
        "\n",
        "# 2. Create model save path\n",
        "MODEL_NAME = \"01_pytroch_workflow_model_1.pth\"\n",
        "MODEL_SAVE_PATH = MODEL_PATH / MODEL_NAME\n",
        "\n",
        "# 3. Save the model state dict\n",
        "print(f\"Saving model to: {MODEL_SAVE_PATH}\")\n",
        "torch.save(obj=model_1.state_dict(),\n",
        "           f=MODEL_SAVE_PATH)"
      ],
      "metadata": {
        "colab": {
          "base_uri": "https://localhost:8080/"
        },
        "id": "fXPO5E46mdcp",
        "outputId": "655c023b-10c8-47f8-c194-d01987b835c8"
      },
      "execution_count": 24,
      "outputs": [
        {
          "output_type": "stream",
          "name": "stdout",
          "text": [
            "Saving model to: models/01_pytroch_workflow_model_1.pth\n"
          ]
        }
      ]
    },
    {
      "cell_type": "code",
      "source": [
        "# Load a model\n",
        "loaded_model_1 = LinearRegressionModelV2()\n",
        "\n",
        "# Load the params\n",
        "loaded_model_1.load_state_dict(torch.load(MODEL_SAVE_PATH))\n",
        "\n",
        "# Put the target model to device\n",
        "loaded_model_1.to(device)"
      ],
      "metadata": {
        "colab": {
          "base_uri": "https://localhost:8080/"
        },
        "id": "t1457iKcoT6G",
        "outputId": "88f2681d-62b3-4028-8719-853fa5e3c6e9"
      },
      "execution_count": 25,
      "outputs": [
        {
          "output_type": "execute_result",
          "data": {
            "text/plain": [
              "LinearRegressionModelV2(\n",
              "  (linear_layer): Linear(in_features=1, out_features=1, bias=True)\n",
              ")"
            ]
          },
          "metadata": {},
          "execution_count": 25
        }
      ]
    },
    {
      "cell_type": "code",
      "source": [
        "# Evaluate loaded model\n",
        "loaded_model_1.eval()\n",
        "with torch.inference_mode():\n",
        "  loaded_model_1_preds = loaded_model_1(X_test)\n",
        "y_preds == loaded_model_1_preds"
      ],
      "metadata": {
        "colab": {
          "base_uri": "https://localhost:8080/"
        },
        "id": "LJNZGiE4ooBy",
        "outputId": "e8bbd087-c987-4584-bc0f-f55f42091843"
      },
      "execution_count": 26,
      "outputs": [
        {
          "output_type": "execute_result",
          "data": {
            "text/plain": [
              "tensor([[True],\n",
              "        [True],\n",
              "        [True],\n",
              "        [True],\n",
              "        [True],\n",
              "        [True],\n",
              "        [True],\n",
              "        [True],\n",
              "        [True],\n",
              "        [True],\n",
              "        [True],\n",
              "        [True],\n",
              "        [True],\n",
              "        [True],\n",
              "        [True],\n",
              "        [True],\n",
              "        [True],\n",
              "        [True],\n",
              "        [True],\n",
              "        [True]])"
            ]
          },
          "metadata": {},
          "execution_count": 26
        }
      ]
    }
  ]
}